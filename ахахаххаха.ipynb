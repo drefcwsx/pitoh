{
 "cells": [
  {
   "cell_type": "code",
   "execution_count": 14,
   "id": "ec839841",
   "metadata": {
    "scrolled": true
   },
   "outputs": [],
   "source": [
    "import cv2\n",
    "import numpy as np"
   ]
  },
  {
   "cell_type": "code",
   "execution_count": 15,
   "id": "8634028e",
   "metadata": {},
   "outputs": [],
   "source": [
    "def grid(cnv, x_step, y_step, color=(0,0,0)):\n",
    "    cnv[::y_step, : ] = color\n",
    "    cnv[:, ::x_step ] = color"
   ]
  },
  {
   "cell_type": "raw",
   "id": "59850186",
   "metadata": {},
   "source": [
    "def draw(event, x, y, flags, param):\n",
    "    x_ = x // 20\n",
    "    y_ = y // 20\n",
    "    \n",
    "    x = x - x%20 + 1\n",
    "    y = y - y%20 + 1   8910 493 01 85   \n",
    "    try:\n",
    "        if flags == 1:\n",
    "            cnv[y:y+19, x:x+19] = (0, 0, 0)\n",
    "            X_in [y_, x_] = 255\n",
    "        if flags == 2:\n",
    "            cnv[y:y+19, x:x+19] = (255,0, 255)\n",
    "            X_in [y_, x_] = 0\n",
    "    except:\n",
    "        pass\n",
    "            "
   ]
  },
  {
   "cell_type": "code",
   "execution_count": null,
   "id": "35bd6f18",
   "metadata": {},
   "outputs": [],
   "source": [
    "X_in = np.zeros( (28,28), dtype=np.uint8() )\n",
    "cnv = np.ones( (560, 560, 3), dtype=np.uint8() ) * 255\n",
    "grid(cnv, 20, 20,(50, 100, 0))\n",
    "cv2.namedWindow('canvas')\n",
    "cv2.setMouseCallback( 'canvas', draw)\n",
    "while True:\n",
    "    cv2.imshow('canvas', cnv)\n",
    "    if cv2.waitKey(1) == 27 :\n",
    "       break\n",
    "cv2.destroyAllWindows()"
   ]
  },
  {
   "cell_type": "code",
   "execution_count": null,
   "id": "a36ca67f",
   "metadata": {},
   "outputs": [],
   "source": []
  },
  {
   "cell_type": "code",
   "execution_count": null,
   "id": "7bf4b811",
   "metadata": {},
   "outputs": [],
   "source": []
  }
 ],
 "metadata": {
  "kernelspec": {
   "display_name": "Python 3 (ipykernel)",
   "language": "python",
   "name": "python3"
  },
  "language_info": {
   "codemirror_mode": {
    "name": "ipython",
    "version": 3
   },
   "file_extension": ".py",
   "mimetype": "text/x-python",
   "name": "python",
   "nbconvert_exporter": "python",
   "pygments_lexer": "ipython3",
   "version": "3.10.2"
  }
 },
 "nbformat": 4,
 "nbformat_minor": 5
}
